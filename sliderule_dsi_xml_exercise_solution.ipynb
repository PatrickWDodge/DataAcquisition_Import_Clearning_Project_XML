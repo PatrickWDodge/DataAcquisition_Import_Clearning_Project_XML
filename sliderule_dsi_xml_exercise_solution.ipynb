{
 "cells": [
  {
   "cell_type": "markdown",
   "metadata": {},
   "source": [
    "# XML example and exercise\n",
    "****\n",
    "+ study examples of accessing nodes in XML tree structure  \n",
    "+ work on exercise to be completed and submitted\n",
    "****\n",
    "+ reference: https://docs.python.org/2.7/library/xml.etree.elementtree.html\n",
    "+ data source: http://www.dbis.informatik.uni-goettingen.de/Mondial\n",
    "****"
   ]
  },
  {
   "cell_type": "code",
   "execution_count": 1,
   "metadata": {
    "collapsed": true
   },
   "outputs": [],
   "source": [
    "from xml.etree import ElementTree as ET"
   ]
  },
  {
   "cell_type": "markdown",
   "metadata": {},
   "source": [
    "## XML example\n",
    "\n",
    "+ for details about tree traversal and iterators, see https://docs.python.org/2.7/library/xml.etree.elementtree.html"
   ]
  },
  {
   "cell_type": "code",
   "execution_count": 2,
   "metadata": {
    "collapsed": true
   },
   "outputs": [],
   "source": [
    "document_tree = ET.parse( 'C:/Users/cantd/OneDrive/Springboard/data_wrangling_xml/data/mondial_database_less.xml' )"
   ]
  },
  {
   "cell_type": "code",
   "execution_count": 3,
   "metadata": {
    "collapsed": false
   },
   "outputs": [
    {
     "name": "stdout",
     "output_type": "stream",
     "text": [
      "Albania\n",
      "Greece\n",
      "Macedonia\n",
      "Serbia\n",
      "Montenegro\n",
      "Kosovo\n",
      "Andorra\n"
     ]
    }
   ],
   "source": [
    "# print names of all countries\n",
    "for child in document_tree.getroot():\n",
    "    print child.find('name').text"
   ]
  },
  {
   "cell_type": "code",
   "execution_count": 4,
   "metadata": {
    "collapsed": false
   },
   "outputs": [
    {
     "name": "stdout",
     "output_type": "stream",
     "text": [
      "* Albania: Tirana, Shkodër, Durrës, Vlorë, Elbasan, Korçë\n",
      "* Greece: Komotini, Kavala, Athina, Peiraias, Peristeri, Acharnes, Patra, Kozani, Kerkyra, Ioannina, Thessaloniki, Iraklio, Chania, Ermoupoli, Rhodes, Tripoli, Lamia, Chalkida, Larissa, Volos, Mytilini, Karyes\n",
      "* Macedonia: Skopje, Kumanovo\n",
      "* Serbia: Beograd, Novi Sad, Niš\n",
      "* Montenegro: Podgorica\n",
      "* Kosovo: Prishtine\n",
      "* Andorra: Andorra la Vella\n"
     ]
    }
   ],
   "source": [
    "# print names of all countries and their cities\n",
    "for element in document_tree.iterfind('country'):\n",
    "    print '* ' + element.find('name').text + ':',\n",
    "    capitals_string = ''\n",
    "    for subelement in element.getiterator('city'):\n",
    "        capitals_string += subelement.find('name').text + ', '\n",
    "    print capitals_string[:-2]"
   ]
  },
  {
   "cell_type": "markdown",
   "metadata": {},
   "source": [
    "****\n",
    "## XML exercise\n",
    "\n",
    "Using data in 'data/mondial_database.xml', the examples above, and refering to https://docs.python.org/2.7/library/xml.etree.elementtree.html, find\n",
    "\n",
    "1. 10 countries with the lowest infant mortality rates\n",
    "2. 10 cities with the largest population\n",
    "3. 10 ethnic groups with the largest overall populations (sum of best/latest estimates over all countries)\n",
    "4. name and country of a) longest river, b) largest lake and c) airport at highest elevation"
   ]
  },
  {
   "cell_type": "code",
   "execution_count": 5,
   "metadata": {
    "collapsed": true
   },
   "outputs": [],
   "source": [
    "document = ET.parse('C:/Users/cantd/OneDrive/Springboard/data_wrangling_xml/data/mondial_database.xml')"
   ]
  },
  {
   "cell_type": "code",
   "execution_count": 6,
   "metadata": {
    "collapsed": false
   },
   "outputs": [
    {
     "data": {
      "text/html": [
       "<div>\n",
       "<table border=\"1\" class=\"dataframe\">\n",
       "  <thead>\n",
       "    <tr style=\"text-align: right;\">\n",
       "      <th></th>\n",
       "      <th>population</th>\n",
       "      <th>infant mortality rate</th>\n",
       "    </tr>\n",
       "  </thead>\n",
       "  <tbody>\n",
       "    <tr>\n",
       "      <th>Monaco</th>\n",
       "      <td>36845</td>\n",
       "      <td>1.81</td>\n",
       "    </tr>\n",
       "    <tr>\n",
       "      <th>Japan</th>\n",
       "      <td>127298000</td>\n",
       "      <td>2.13</td>\n",
       "    </tr>\n",
       "    <tr>\n",
       "      <th>Norway</th>\n",
       "      <td>5051275</td>\n",
       "      <td>2.48</td>\n",
       "    </tr>\n",
       "    <tr>\n",
       "      <th>Bermuda</th>\n",
       "      <td>64237</td>\n",
       "      <td>2.48</td>\n",
       "    </tr>\n",
       "    <tr>\n",
       "      <th>Singapore</th>\n",
       "      <td>5076700</td>\n",
       "      <td>2.53</td>\n",
       "    </tr>\n",
       "    <tr>\n",
       "      <th>Sweden</th>\n",
       "      <td>9555893</td>\n",
       "      <td>2.60</td>\n",
       "    </tr>\n",
       "    <tr>\n",
       "      <th>Czech Republic</th>\n",
       "      <td>10562214</td>\n",
       "      <td>2.63</td>\n",
       "    </tr>\n",
       "    <tr>\n",
       "      <th>Hong Kong</th>\n",
       "      <td>7071576</td>\n",
       "      <td>2.73</td>\n",
       "    </tr>\n",
       "    <tr>\n",
       "      <th>Macao</th>\n",
       "      <td>552503</td>\n",
       "      <td>3.13</td>\n",
       "    </tr>\n",
       "    <tr>\n",
       "      <th>Iceland</th>\n",
       "      <td>318452</td>\n",
       "      <td>3.15</td>\n",
       "    </tr>\n",
       "  </tbody>\n",
       "</table>\n",
       "</div>"
      ],
      "text/plain": [
       "                population  infant mortality rate\n",
       "Monaco               36845                   1.81\n",
       "Japan            127298000                   2.13\n",
       "Norway             5051275                   2.48\n",
       "Bermuda              64237                   2.48\n",
       "Singapore          5076700                   2.53\n",
       "Sweden             9555893                   2.60\n",
       "Czech Republic    10562214                   2.63\n",
       "Hong Kong          7071576                   2.73\n",
       "Macao               552503                   3.13\n",
       "Iceland             318452                   3.15"
      ]
     },
     "execution_count": 6,
     "metadata": {},
     "output_type": "execute_result"
    }
   ],
   "source": [
    "#1. 10 countries with the lowest infant mortality rates\n",
    "\n",
    "import pandas as pd\n",
    "from pandas import DataFrame, Series\n",
    "\n",
    "pop_dict = {} # create a dictionary to store the country (key), and most recent population and infant mortality rate (values)\n",
    "\n",
    "for element in document.iterfind('country'): # for every country\n",
    "    for population in element.iterfind('population'): # find all the population values\n",
    "        try:\n",
    "            pop_dict[element.find('name').text] = [int(population.text), float(element.find('infant_mortality').text)]\n",
    "            # associate the population value and infant mortality rate with the country (in the dictionary)\n",
    "        except:\n",
    "            pass # if there are any issues, pass\n",
    "        \n",
    "pop_df = DataFrame.from_dict(pop_dict, orient = 'index') # create a dataframe from the dictionary (row by row)\n",
    "\n",
    "pop_df.columns = ['population', 'infant mortality rate'] # set column names\n",
    "\n",
    "pop_df.sort_values(by='infant mortality rate').head(10) # display the 10 lowest infant mortality rates"
   ]
  },
  {
   "cell_type": "code",
   "execution_count": 7,
   "metadata": {
    "collapsed": false
   },
   "outputs": [
    {
     "data": {
      "text/html": [
       "<div>\n",
       "<table border=\"1\" class=\"dataframe\">\n",
       "  <thead>\n",
       "    <tr style=\"text-align: right;\">\n",
       "      <th></th>\n",
       "      <th>population</th>\n",
       "      <th>infant mortality rate</th>\n",
       "    </tr>\n",
       "  </thead>\n",
       "  <tbody>\n",
       "    <tr>\n",
       "      <th>China</th>\n",
       "      <td>1360720000</td>\n",
       "      <td>14.79</td>\n",
       "    </tr>\n",
       "    <tr>\n",
       "      <th>India</th>\n",
       "      <td>1210854977</td>\n",
       "      <td>43.19</td>\n",
       "    </tr>\n",
       "    <tr>\n",
       "      <th>United States</th>\n",
       "      <td>318857056</td>\n",
       "      <td>6.17</td>\n",
       "    </tr>\n",
       "    <tr>\n",
       "      <th>Indonesia</th>\n",
       "      <td>252124458</td>\n",
       "      <td>25.16</td>\n",
       "    </tr>\n",
       "    <tr>\n",
       "      <th>Brazil</th>\n",
       "      <td>202768562</td>\n",
       "      <td>19.21</td>\n",
       "    </tr>\n",
       "    <tr>\n",
       "      <th>Pakistan</th>\n",
       "      <td>173149306</td>\n",
       "      <td>57.48</td>\n",
       "    </tr>\n",
       "    <tr>\n",
       "      <th>Nigeria</th>\n",
       "      <td>164294516</td>\n",
       "      <td>74.09</td>\n",
       "    </tr>\n",
       "    <tr>\n",
       "      <th>Bangladesh</th>\n",
       "      <td>149772364</td>\n",
       "      <td>45.67</td>\n",
       "    </tr>\n",
       "    <tr>\n",
       "      <th>Russia</th>\n",
       "      <td>143666931</td>\n",
       "      <td>7.08</td>\n",
       "    </tr>\n",
       "    <tr>\n",
       "      <th>Japan</th>\n",
       "      <td>127298000</td>\n",
       "      <td>2.13</td>\n",
       "    </tr>\n",
       "  </tbody>\n",
       "</table>\n",
       "</div>"
      ],
      "text/plain": [
       "               population  infant mortality rate\n",
       "China          1360720000                  14.79\n",
       "India          1210854977                  43.19\n",
       "United States   318857056                   6.17\n",
       "Indonesia       252124458                  25.16\n",
       "Brazil          202768562                  19.21\n",
       "Pakistan        173149306                  57.48\n",
       "Nigeria         164294516                  74.09\n",
       "Bangladesh      149772364                  45.67\n",
       "Russia          143666931                   7.08\n",
       "Japan           127298000                   2.13"
      ]
     },
     "execution_count": 7,
     "metadata": {},
     "output_type": "execute_result"
    }
   ],
   "source": [
    "#2. 10 cities with the largest population\n",
    "\n",
    "pop_df.sort_values(by='population', ascending=False).head(10) # display the 10 largest populations"
   ]
  },
  {
   "cell_type": "code",
   "execution_count": 8,
   "metadata": {
    "collapsed": false
   },
   "outputs": [
    {
     "data": {
      "text/html": [
       "<div>\n",
       "<table border=\"1\" class=\"dataframe\">\n",
       "  <thead>\n",
       "    <tr style=\"text-align: right;\">\n",
       "      <th></th>\n",
       "      <th>ethnic group</th>\n",
       "      <th>population</th>\n",
       "    </tr>\n",
       "  </thead>\n",
       "  <tbody>\n",
       "    <tr>\n",
       "      <th>39</th>\n",
       "      <td>Han Chinese</td>\n",
       "      <td>1.245059e+09</td>\n",
       "    </tr>\n",
       "    <tr>\n",
       "      <th>148</th>\n",
       "      <td>Indo-Aryan</td>\n",
       "      <td>8.718156e+08</td>\n",
       "    </tr>\n",
       "    <tr>\n",
       "      <th>58</th>\n",
       "      <td>European</td>\n",
       "      <td>4.948718e+08</td>\n",
       "    </tr>\n",
       "    <tr>\n",
       "      <th>70</th>\n",
       "      <td>African</td>\n",
       "      <td>3.183251e+08</td>\n",
       "    </tr>\n",
       "    <tr>\n",
       "      <th>48</th>\n",
       "      <td>Dravidian</td>\n",
       "      <td>3.027137e+08</td>\n",
       "    </tr>\n",
       "    <tr>\n",
       "      <th>66</th>\n",
       "      <td>Mestizo</td>\n",
       "      <td>1.577344e+08</td>\n",
       "    </tr>\n",
       "    <tr>\n",
       "      <th>46</th>\n",
       "      <td>Bengali</td>\n",
       "      <td>1.467769e+08</td>\n",
       "    </tr>\n",
       "    <tr>\n",
       "      <th>18</th>\n",
       "      <td>Russian</td>\n",
       "      <td>1.318570e+08</td>\n",
       "    </tr>\n",
       "    <tr>\n",
       "      <th>61</th>\n",
       "      <td>Japanese</td>\n",
       "      <td>1.265342e+08</td>\n",
       "    </tr>\n",
       "    <tr>\n",
       "      <th>51</th>\n",
       "      <td>Malay</td>\n",
       "      <td>1.219933e+08</td>\n",
       "    </tr>\n",
       "  </tbody>\n",
       "</table>\n",
       "</div>"
      ],
      "text/plain": [
       "    ethnic group    population\n",
       "39   Han Chinese  1.245059e+09\n",
       "148   Indo-Aryan  8.718156e+08\n",
       "58      European  4.948718e+08\n",
       "70       African  3.183251e+08\n",
       "48     Dravidian  3.027137e+08\n",
       "66       Mestizo  1.577344e+08\n",
       "46       Bengali  1.467769e+08\n",
       "18       Russian  1.318570e+08\n",
       "61      Japanese  1.265342e+08\n",
       "51         Malay  1.219933e+08"
      ]
     },
     "execution_count": 8,
     "metadata": {},
     "output_type": "execute_result"
    }
   ],
   "source": [
    "#3. 10 ethnic groups with the largest overall populations (sum of best/latest estimates over all countries)\n",
    "\n",
    "\"\"\"build a list of ethnic groups\"\"\"\n",
    "ethnic_list = [] # initialize list of all ethnic groups\n",
    "\n",
    "for child in document.getroot(): # for each ethnic group\n",
    "    try:\n",
    "        if child.find('ethnicgroup').text not in ethnic_list: # if the ethnic group is not in the list\n",
    "            ethnic_list.append(child.find('ethnicgroup').text) # add the ethnic group to the list\n",
    "    except:\n",
    "        pass # if there's an issue, move to the next item\n",
    "\n",
    "\"\"\"build a dictionary containing the country, and associated ethnic groups and percentages\"\"\"    \n",
    "group_dict = {} # initialize the dictionary to store the country, ethnic groups, and percentage of population\n",
    "\n",
    "for element in document.iterfind('country'): # for each country\n",
    "    group_list = [] # initialize a blank list to store the ethnic groups and their percentages\n",
    "    for group in element.iterfind('ethnicgroup'): # for each ethnic group\n",
    "        group_list.append([float(group.attrib['percentage']), group.text]) # add that group and its percentage to the list\n",
    "        try:\n",
    "            group_dict[element.find('name').text] = group_list # set the list of lists made above as the value for the \n",
    "                                                               # country (key) in the dictionary\n",
    "        except:\n",
    "            pass # if there's an issue, move on to the next item\n",
    "\n",
    "\"\"\"add the ethnic groups to the dataframe (created in In [6]) using the list created above\"\"\"        \n",
    "for group in ethnic_list: # for each ethnic group\n",
    "    pop_df[group] = 0 # add a column filled with zero's\n",
    "\n",
    "\"\"\"use the dictionary created above to set the values in the ethinic column to the percentage divided by 100\"\"\"\n",
    "for country in group_dict: # for each country\n",
    "    for group in group_dict[country]: # for each group in the country\n",
    "        pop_df.loc[country, group[1]] = group[0]/100 # set the country, group value equal to the percentage/100\n",
    "        \n",
    "pop_df.fillna(0, inplace = True) # replace any missing values with zero\n",
    "\n",
    "\"\"\"replace the ethnic group percentages with population totals\"\"\"\n",
    "for column in pop_df.columns[2:]: # for each ethnic group column\n",
    "    pop_df[column] = pop_df[column]*pop_df['population'] # set the values to the percentage * the country's population\n",
    "   \n",
    "\"\"\"create a dataframe with the totals of each ethnic group\"\"\"\n",
    "ethic_pop_list = [] # initialize an ethnic population list\n",
    "\n",
    "for column in pop_df.columns[2:]: # for each ethnic group\n",
    "     ethic_pop_list.append([column, pop_df[column].sum()])  # add the group's name and the sum of all its populations \n",
    "                                                            # to the ethinic population list\n",
    "        \n",
    "ethic_pop_df = DataFrame(ethic_pop_list, columns = ['ethnic group', 'population']) # create a dataframe from the list\n",
    "\n",
    "ethic_pop_df.sort_values(by='population', ascending=False).head(10) # display the 10 largest populations"
   ]
  },
  {
   "cell_type": "code",
   "execution_count": 9,
   "metadata": {
    "collapsed": false
   },
   "outputs": [],
   "source": [
    "#4. name and country of a) longest river, b) largest lake and c) airport at highest elevation\n",
    "\n",
    "def google(item, characteristic):\n",
    "    \"\"\"create a dictionary of item / characteristic pairs\"\"\"\n",
    "    temp_dict = {} # create a dictionary to store the item and it's characteristics\n",
    "\n",
    "    for element in document.iterfind(item): # for every item\n",
    "        try:\n",
    "            temp_dict[element.find('name').text] = int(element.find(characteristic).text)\n",
    "                # associate the the item with the desired characteristic (in the dictionary)\n",
    "        except:\n",
    "            pass # if there are any issues, pass\n",
    "\n",
    "    \"make a dataframe from the dictionary\"    \n",
    "    df = DataFrame.from_dict(temp_dict, orient = 'index') # create a dataframe from the dictionary (row by row)\n",
    "\n",
    "    df.columns = [characteristic] # set column name as characteristic\n",
    "\n",
    "    \"\"\"use the dataframe to find the top value, and make a single item list from it\"\"\"\n",
    "\n",
    "    top_list = df.sort_values(by=characteristic, ascending=False).head(1).index.tolist()\n",
    "    \n",
    "    \"\"\"find the countries associated with the item\"\"\"\n",
    "    \n",
    "    #country_code_list = []\n",
    "    for element in document.iterfind(item): # for every item\n",
    "        if element.find('name').text==top_list[0]: # if the item matches the name of the item\n",
    "            country_code_list = element.attrib['country'].split() # add the name of the country code to the list\n",
    "        \n",
    "    for element in document.iterfind('country'): # for every country\n",
    "        for code in country_code_list: # for every code in the country_code_list\n",
    "            if element.attrib['car_code']==code: # if the country matches the country code\n",
    "                print element.find('name').text # print it\n",
    "                \n",
    "    print 'The item you seek is called the ' + top_list[0] + ' and it is located in the countries listed above.'"
   ]
  },
  {
   "cell_type": "code",
   "execution_count": 10,
   "metadata": {
    "collapsed": false
   },
   "outputs": [
    {
     "name": "stdout",
     "output_type": "stream",
     "text": [
      "Colombia\n",
      "Brazil\n",
      "Peru\n",
      "The item you seek is called the Amazonas and it is located in the countries listed above.\n"
     ]
    }
   ],
   "source": [
    "# a) longest river\n",
    "\n",
    "google('river', 'length')"
   ]
  },
  {
   "cell_type": "code",
   "execution_count": 11,
   "metadata": {
    "collapsed": false
   },
   "outputs": [
    {
     "name": "stdout",
     "output_type": "stream",
     "text": [
      "Russia\n",
      "Iran\n",
      "Turkmenistan\n",
      "Azerbaijan\n",
      "Kazakhstan\n",
      "The item you seek is called the Caspian Sea and it is located in the countries listed above.\n"
     ]
    }
   ],
   "source": [
    "# b) largest lake\n",
    "\n",
    "google('lake', 'area')"
   ]
  },
  {
   "cell_type": "code",
   "execution_count": 12,
   "metadata": {
    "collapsed": false
   },
   "outputs": [
    {
     "name": "stdout",
     "output_type": "stream",
     "text": [
      "Bolivia\n",
      "The item you seek is called the El Alto Intl and it is located in the countries listed above.\n"
     ]
    }
   ],
   "source": [
    "# c) airport at highest elevation\n",
    "\n",
    "google('airport', 'elevation')"
   ]
  }
 ],
 "metadata": {
  "anaconda-cloud": {},
  "kernelspec": {
   "display_name": "Python [py27]",
   "language": "python",
   "name": "Python [py27]"
  },
  "language_info": {
   "codemirror_mode": {
    "name": "ipython",
    "version": 2
   },
   "file_extension": ".py",
   "mimetype": "text/x-python",
   "name": "python",
   "nbconvert_exporter": "python",
   "pygments_lexer": "ipython2",
   "version": "2.7.12"
  }
 },
 "nbformat": 4,
 "nbformat_minor": 0
}
